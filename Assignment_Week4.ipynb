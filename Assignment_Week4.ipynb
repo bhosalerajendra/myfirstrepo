{
 "cells": [
  {
   "cell_type": "markdown",
   "id": "ee791290-f4bb-4a38-ac3f-1f8f08e5dbdc",
   "metadata": {},
   "source": [
    "# My Jupyter Notebook on IBM Watson Studio"
   ]
  },
  {
   "cell_type": "markdown",
   "id": "3246275a-b1d0-4c9f-adcf-f4b8f6d24991",
   "metadata": {},
   "source": [
    "**Rajendra Bhosale**\n",
    "\n",
    "\n",
    "Data Sceintist"
   ]
  },
  {
   "cell_type": "markdown",
   "id": "51bcea30-7761-45ab-924e-b5d236618d18",
   "metadata": {},
   "source": [
    "_I am interested in data science because I love data and stats. I want to use my these skills to improve my proffessional carrer_"
   ]
  },
  {
   "cell_type": "markdown",
   "id": "880f6061-9f60-4081-a292-36b126deee6f",
   "metadata": {},
   "source": [
    "### I want my code to multiply 2 numbers"
   ]
  },
  {
   "cell_type": "code",
   "execution_count": null,
   "id": "d960d4f2-8ce2-4438-9a75-806be85ec339",
   "metadata": {},
   "outputs": [],
   "source": [
    "5*7"
   ]
  },
  {
   "cell_type": "markdown",
   "id": "45673ab9-0c84-4540-bd1d-a195b6249688",
   "metadata": {},
   "source": [
    "***\n",
    "1. Item_1\n",
    "2. Item_2\n",
    "3. Item_3\n",
    "\n",
    "- Item_1\n",
    "- Item_2\n",
    "- Item_3\n",
    "\n",
    "~~This is for strikethrough~~"
   ]
  }
 ],
 "metadata": {
  "kernelspec": {
   "display_name": "Python",
   "language": "python",
   "name": "conda-env-python-py"
  },
  "language_info": {
   "name": ""
  }
 },
 "nbformat": 4,
 "nbformat_minor": 5
}
